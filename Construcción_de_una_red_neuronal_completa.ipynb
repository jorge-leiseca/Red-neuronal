{
  "nbformat": 4,
  "nbformat_minor": 0,
  "metadata": {
    "colab": {
      "name": "Construcción de una red neuronal completa",
      "provenance": [],
      "collapsed_sections": [],
      "include_colab_link": true
    },
    "kernelspec": {
      "name": "python3",
      "display_name": "Python 3"
    }
  },
  "cells": [
    {
      "cell_type": "markdown",
      "metadata": {
        "id": "view-in-github",
        "colab_type": "text"
      },
      "source": [
        "<a href=\"https://colab.research.google.com/github/jorge-leiseca/Red-neuronal/blob/master/Construcci%C3%B3n_de_una_red_neuronal_completa.ipynb\" target=\"_parent\"><img src=\"https://colab.research.google.com/assets/colab-badge.svg\" alt=\"Open In Colab\"/></a>"
      ]
    },
    {
      "cell_type": "code",
      "metadata": {
        "id": "ZSyzRYThgSXB",
        "colab_type": "code",
        "colab": {}
      },
      "source": [
        "import numpy as np\n",
        "import scipy as sc\n",
        "import matplotlib.pyplot as plt\n",
        "\n",
        "from sklearn.datasets import make_circles"
      ],
      "execution_count": 0,
      "outputs": []
    },
    {
      "cell_type": "code",
      "metadata": {
        "id": "w7ZiWXuFgWf2",
        "colab_type": "code",
        "colab": {
          "base_uri": "https://localhost:8080/",
          "height": 265
        },
        "outputId": "0824bb91-54f4-4a8f-d868-fb08c5cababc"
      },
      "source": [
        "#Crear el dataset\n",
        "\n",
        "\n",
        "#cantidad de datos\n",
        "n= 500\n",
        "\n",
        "#número de parámetros por dato, al ser solo dos podemos graficarlos en un plano x y\n",
        "p = 2\n",
        "\n",
        "#usamos la función make_circles para que genere el dataset de X Y , luego tengo tres parámetros\n",
        "#n_samples el numero de datos que en nuestro caso es n es decir 500. lueo factor es la distancia que hay entre los dos circulos que se van a formar\n",
        "#por ultimo noise es la cantidad de particulas en las que se convierte y se muestran los circulos\n",
        "X, Y = make_circles(n_samples=n, factor=0.5, noise=0.05)\n",
        "\n",
        "#para evitar que nos haga una serie\n",
        "Y = Y[:, np.newaxis]\n",
        "\n",
        "#Aquí usamos la libreria que ya importamos como plt, para visualizar los circulos y eventuales particulas\n",
        "#ponemos en el arreglo[] : que quiere decir todos los puntos y ponemos 0 que se refiere a la columna número 1 y luego ponemos en el siguiente arreglo[] : todos los puntos y la cordenada 2 que es representada por el 1\n",
        "#plt.scatter(X[:, 0], X[:, 1], c=\"skyblue\")\n",
        "\n",
        "#también si en lugar de poner : para todos los números ponemos Y es igual a 0 entonces nos mostrará solo un circulo correspondientes a los valores de cero : el circulo grande y azul de afuera\n",
        "plt.scatter(X[Y[:, 0] == 0, 0], X[Y[:, 0] == 0, 1], c=\"firebrick\")\n",
        "\n",
        "#ponemos Y es igual a 1 entonces nos mostrará solo un circulo correspondientes a los valores de uno, el irculo rojo de adentro\n",
        "plt.scatter(X[Y[:, 0] == 1, 0], X[Y[:, 0] == 1, 1], c=\"Orchid\")\n",
        "\n",
        "#pedimos que la libreria nos visualice los puntos con la misma propori+on para organizar mejor el gráfico\n",
        "plt.axis(\"equal\")\n",
        "\n",
        "#ahora invocamos la función de la libreria plt show para que nos muestrela gráfica que programamos\n",
        "plt.show()"
      ],
      "execution_count": 82,
      "outputs": [
        {
          "output_type": "display_data",
          "data": {
            "image/png": "[encoded data removed]",
            "text/plain": [
              "<Figure size 432x288 with 1 Axes>"
            ]
          },
          "metadata": {
            "tags": []
          }
        }
      ]
    },
    {
      "cell_type": "code",
      "metadata": {
        "id": "yEjinL1bgc-L",
        "colab_type": "code",
        "colab": {}
      },
      "source": [
        "# CLASE DE LA CAPA DE LA RED\n",
        "#La neurona es la únidad de procesamiento de una red neuronal\n",
        "#podemos juntar muchas neuronas en diferentes capas para conseguir la codificación más compleja\n",
        "#Sin embargo cada formula que usamos en nuestra red neuronal son posibles de VECTORIZAR\n",
        "#Dentro de una capa estamos realizando las mismas formulas ya que están vectorizadas\n",
        "#se puede pensar que cada capa es un modulo y que dentro de cada capa se realizan las mismas formulas y esta capa es el modulo principal\n",
        "\n",
        "#CLASE DE LA CAPA DE LA RED/esto lo definimospara referirnos auna capa\n",
        "class neural_layer():\n",
        " \n",
        "  def __init__(self, n_conn, n_neur, act_f):\n",
        "    #aquí soloponemos los parámetros de la capa w b Sin ningún tipode función para no complejizar la estructura\n",
        "#self:   n_conn:número de conexiones, n_neur:número de neuronas, act_f: activation function que se ejecuta dentro de las neuronas de esta capa\n",
        "    \n",
        "\n",
        " #lafunción de activación de la capa es igual al parámetro que pasamos anteriormente\n",
        "    self.act_f = act_f\n",
        "\n",
        "\n",
        "#vector que se refiere al parámetro de baya y tendremos tantos como número de neuronas tengamos en la capa. En este caso los parámetro de la red se inicializan de manera aleatoria\n",
        "    #usamos np.random.rand para inicializar de manera aleatoria y la funcion. Especificamos que para el bayas queremos que sea vector columna (1, n_neur) en este caso el random nos devuelve valores entre 0 a 1 \n",
        "    #ya que queremos que los números del random sean entre -1 a 1 entonces multiplicamos por 2 y le restamos 1 *2 -1\n",
        "    self.b = np.random.rand(1, n_neur)      * 2 - 1\n",
        "\n",
        "    #Hacemos lo mismo pero con la matriz w con el número de conexiones y número de neuronas\n",
        "    self.W = np.random.rand(n_conn, n_neur) * 2 - 1"
      ],
      "execution_count": 0,
      "outputs": []
    },
    {
      "cell_type": "code",
      "metadata": {
        "id": "xllNY9hJj5qg",
        "colab_type": "code",
        "colab": {
          "base_uri": "https://localhost:8080/",
          "height": 282
        },
        "outputId": "556c390c-4687-4821-aa25-177412c69c64"
      },
      "source": [
        "#FUNCION DE ACTIVACIÓN\n",
        "#Recordemos que las funciones de activación nos permite la combinación de diversas neuronas sin que estas colapsen en una linea recta\n",
        "\n",
        "#función de activación sigmoide. Coolocamos una variable como sigm y la ejecutamos como una función anonima con lambda x. Luego escribimos la formula de la sigmoide\n",
        "#recordemos que esta función toma el número de entrada y lo distorciona entre los valores -1 a 1\n",
        "sigm = (lambda x: 1 /(1 + np.e **(-x)),\n",
        "        lambda x: x * (1 - x)) #esto lo hacemos para acceder a la derivada de la función sigmoide\n",
        "\n",
        "relu = lambda x: np.maximum(0, x)\n",
        "\n",
        "\n",
        "#definimos variable X que sea linspace y creamos una variable que vaya de -5 a 5 y genere 100 valores. Esto es un vector de 100 valores que van de -5 a 5\n",
        "_x = np.linspace(-5, 5,100)\n",
        "\n",
        "#Ahora le pido que haga un plot o grafico donde en el eje X pone la variable que creamos \"_X\" y en el eje Y pone el resultado de pasar por la función sigmoide a _X\n",
        "plt.plot(_x, sigm[0](_x)) #si pongo 0 accedo a la función sigmoide y si pongo 1 accedo a la derivada. Intente visualizar ambas.\n",
        "\n",
        "\n",
        "#Aquí también se puede hacer con una función de activación RELU\n",
        "#plt.plot(_x, relu(_x))"
      ],
      "execution_count": 98,
      "outputs": [
        {
          "output_type": "execute_result",
          "data": {
            "text/plain": [
              "[<matplotlib.lines.Line2D at 0x7fcad46f9940>]"
            ]
          },
          "metadata": {
            "tags": []
          },
          "execution_count": 98
        },
        {
          "output_type": "display_data",
          "data": {
            "image/png": "[encoded data removed]",
            "text/plain": [
              "<Figure size 432x288 with 1 Axes>"
            ]
          },
          "metadata": {
            "tags": []
          }
        }
      ]
    },
    {
      "cell_type": "code",
      "metadata": {
        "id": "6gQqGFkCj8-_",
        "colab_type": "code",
        "colab": {}
      },
      "source": [
        "# CREAMOS LA RED NEURONAL\n",
        "#creamos l0 como layer o capa0 , invocamos la función neural layer para crear una capa\n",
        "#p es la variable del comienzo que define el número de entrada dela neurona(en este caso es 2)\n",
        "#le damos 4 neuronas y una función de activación sigmoide\n",
        "l0 = neural_layer(p, 4, sigm)\n",
        "l1 = neural_layer(4, 8, sigm)\n",
        "#podríamos seguir así una a una con cada capa sin embargo podemos hacerlo de otra manera\n",
        "\n",
        "\n",
        "#a esta función que definimos le pasamos el vector topology y la función de activación\n",
        "def create_nn(topology, act_f):\n",
        "  \n",
        "  #en este vector contenemos todas las capas de la red neuronal\n",
        "  nn = []\n",
        "  \n",
        "\n",
        "  #definimos un bucle for con la función enumerate que nos da el indice del vector que recorremos y el objeto(es decir los números dentro de topology)\n",
        "  for l, layer in enumerate(topology[:-1]):\n",
        "    \n",
        "   #dentro de este vector añadimos una neural_layer cuya primera capa coontiene el número de conexiones de topology en la posición l ya que l es lo que recorreremos durante todo bucle for\n",
        "   #Vamos a tener tantas neuronas que hayan marcado l + 1 y la función de activación será la que definimos con atc_f\n",
        "    nn.append(neural_layer(topology[l], topology[l+1], act_f))\n",
        "    \n",
        "  return nn\n",
        "\n",
        " "
      ],
      "execution_count": 0,
      "outputs": []
    },
    {
      "cell_type": "markdown",
      "metadata": {
        "id": "f8scCMExnzGP",
        "colab_type": "text"
      },
      "source": [
        "PARA ESTE MOMENTO TENEMOS LA ESTRUCTURA DE UNA RED NEURONAL COMPLETA"
      ]
    },
    {
      "cell_type": "code",
      "metadata": {
        "id": "oW5jcv7WFi9-",
        "colab_type": "code",
        "colab": {
          "base_uri": "https://localhost:8080/",
          "height": 34
        },
        "outputId": "66da8d90-62d4-45cc-f17c-2f7198a159e1"
      },
      "source": [
        "# FUNCION DE ENTRENAMIENTO\n",
        "\n",
        "topology = [p, 4, 8, 1]\n",
        "\n",
        "neural_net = create_nn(topology, sigm)  \n",
        "\n",
        "l2_cost = (lambda Yp, Yr: np.mean((Yp - Yr) ** 2),\n",
        "           lambda Yp, Yr: (Yp - Yr))\n",
        "\n",
        "\n",
        "\n",
        "def train(neural_net, X, Y, l2_cost, lr=0.5, train=True):\n",
        "  \n",
        "  out = [(None, X)]\n",
        "  \n",
        "  # Forward pass\n",
        "  for l, layer in enumerate(neural_net):\n",
        "  \n",
        "    z = out[-1][1] @ neural_net[l].W + neural_net[l].b\n",
        "    a = neural_net[l].act_f[0](z)\n",
        "  \n",
        "    out.append((z, a))\n",
        "    \n",
        "  \n",
        "  if train:\n",
        "    \n",
        "    # Backward pass \n",
        "    deltas = []\n",
        "    \n",
        "    for l in reversed(range(0, len(neural_net))):\n",
        "      \n",
        "      z = out[l+1][0]\n",
        "      a = out[l+1][1]\n",
        "      \n",
        "      if l == len(neural_net) - 1:\n",
        "        deltas.insert(0, l2_cost[1](a, Y) * neural_net[l].act_f[1](a))\n",
        "      else:\n",
        "        deltas.insert(0, deltas[0] @ _W.T * neural_net[l].act_f[1](a))\n",
        "       \n",
        "      _W = neural_net[l].W\n",
        " \n",
        "      # Decenso del gradiente\n",
        "      neural_net[l].b = neural_net[l].b - np.mean(deltas[0], axis=0, keepdims=True) * lr   \n",
        "      neural_net[l].W = neural_net[l].W - out[l][1].T @ deltas[0] * lr\n",
        "      \n",
        "  return out[-1][1]\n",
        "  \n",
        "  \n",
        "train(neural_net, X, Y, l2_cost, 0.5)\n",
        "print(\"\")\n",
        "\n",
        "  "
      ],
      "execution_count": 80,
      "outputs": [
        {
          "output_type": "stream",
          "text": [
            "\n"
          ],
          "name": "stdout"
        }
      ]
    },
    {
      "cell_type": "code",
      "metadata": {
        "id": "OOnazPZEkF88",
        "colab_type": "code",
        "colab": {
          "base_uri": "https://localhost:8080/",
          "height": 517
        },
        "outputId": "339b6f79-328b-44f9-d7fd-383652b407e8"
      },
      "source": [
        "# Códiigo para visualizar el entrenamiento y el progreso\n",
        "\n",
        "import time\n",
        "from IPython.display import clear_output\n",
        "\n",
        "#creamos una red neuronal nueva con una topologia diferente y la función sigmoide\n",
        "neural_n = create_nn(topology, sigm)\n",
        "\n",
        "#creamos un vector vacio donde guardar todos los valores de función de coste o error para así poder ir graficando la evolución de este\n",
        "loss = []\n",
        "\n",
        "#iteramos muchas eces el for mientras llamamos la función train que habiamos hecho con anterioridad\n",
        "for i in range(2500):\n",
        "    \n",
        "  # Entrenemos a la red!\n",
        "  pY = train(neural_n, X, Y, l2_cost, lr=0.05)\n",
        "  \n",
        "  #cada 25 iteraciones calculamos el coste y lo añadimos a nuestro vector\n",
        "  if i % 25 == 0:\n",
        "    \n",
        "    print(pY)\n",
        "  \n",
        "    loss.append(l2_cost[0](pY, Y))\n",
        "  \n",
        "  #malla de 50 x 50 y en cada punto vamos hacer una predicción\n",
        "  #visualizaremos en rojo y azul cada lectura\n",
        "    res = 50\n",
        "\n",
        "    _x0 = np.linspace(-1.5, 1.5, res)\n",
        "    _x1 = np.linspace(-1.5, 1.5, res)\n",
        "\n",
        "    _Y = np.zeros((res, res))\n",
        "\n",
        "    for i0, x0 in enumerate(_x0):\n",
        "      for i1, x1 in enumerate(_x1):\n",
        "        _Y[i0, i1] = train(neural_n, np.array([[x0, x1]]), Y, l2_cost, train=False)[0][0]    \n",
        "\n",
        "    plt.pcolormesh(_x0, _x1, _Y, cmap=\"gnuplot\")\n",
        "    plt.axis(\"equal\")\n",
        "\n",
        "    plt.scatter(X[Y[:,0] == 0, 0], X[Y[:,0] == 0, 1], c=\"firebrick\")\n",
        "    plt.scatter(X[Y[:,0] == 1, 0], X[Y[:,0] == 1, 1], c=\"Orchid\")\n",
        "\n",
        "\n",
        "#con esto borramos el contenido y dibujamos el siguiente para que se vea de forma animada\n",
        "    clear_output(wait=True)\n",
        "    plt.show()\n",
        "    plt.plot(range(len(loss)), loss)\n",
        "    plt.show()\n",
        "    time.sleep(0.5) "
      ],
      "execution_count": 99,
      "outputs": [
        {
          "output_type": "display_data",
          "data": {
            "image/png": "[encoded data removed]",
            "text/plain": [
              "<Figure size 432x288 with 1 Axes>"
            ]
          },
          "metadata": {
            "tags": []
          }
        },
        {
          "output_type": "display_data",
          "data": {
            "image/png": "[encoded data removed]",
            "text/plain": [
              "<Figure size 432x288 with 1 Axes>"
            ]
          },
          "metadata": {
            "tags": []
          }
        }
      ]
    },
    {
      "cell_type": "code",
      "metadata": {
        "id": "ZVEjqKxmkHY3",
        "colab_type": "code",
        "colab": {}
      },
      "source": [
        ""
      ],
      "execution_count": 0,
      "outputs": []
    }
  ]
}