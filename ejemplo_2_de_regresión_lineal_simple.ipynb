{
  "nbformat": 4,
  "nbformat_minor": 0,
  "metadata": {
    "colab": {
      "name": "ejemplo 2 de regresión lineal simple",
      "provenance": [],
      "collapsed_sections": [],
      "authorship_tag": "ABX9TyNm1nbEtQOyJn+xc5sbr92f",
      "include_colab_link": true
    },
    "kernelspec": {
      "name": "python3",
      "display_name": "Python 3"
    }
  },
  "cells": [
    {
      "cell_type": "markdown",
      "metadata": {
        "id": "view-in-github",
        "colab_type": "text"
      },
      "source": [
        "<a href=\"https://colab.research.google.com/github/jorge-leiseca/Red-neuronal/blob/master/ejemplo_2_de_regresi%C3%B3n_lineal_simple.ipynb\" target=\"_parent\"><img src=\"https://colab.research.google.com/assets/colab-badge.svg\" alt=\"Open In Colab\"/></a>"
      ]
    },
    {
      "cell_type": "markdown",
      "metadata": {
        "id": "H_Trc4mITv9I",
        "colab_type": "text"
      },
      "source": [
        "Importamos nuestra librería sklearn"
      ]
    },
    {
      "cell_type": "code",
      "metadata": {
        "id": "lxAK6aK0EFIX",
        "colab_type": "code",
        "colab": {}
      },
      "source": [
        "from sklearn import linear_model"
      ],
      "execution_count": 0,
      "outputs": []
    },
    {
      "cell_type": "markdown",
      "metadata": {
        "id": "mPJ8Z3pvT6WJ",
        "colab_type": "text"
      },
      "source": [
        "En este ejemplovamos a elegir nuestras alturas y pesos como los datos que vamos a visualizar y usar la regresión lineal para así posteriormente predecir datos "
      ]
    },
    {
      "cell_type": "code",
      "metadata": {
        "id": "yHCD6Q97EKJL",
        "colab_type": "code",
        "outputId": "de718558-40e3-4810-9309-5685e83c6389",
        "colab": {
          "base_uri": "https://localhost:8080/",
          "height": 210
        }
      },
      "source": [
        "height=[[4.0],[4.5],[5.0],[5.2],[5.4],[5.8],[6.1],[6.2],[6.4],[6.8]]\n",
        "weight=[  42 ,  44 , 49, 55  , 53  , 58   , 60  , 64  ,  66 ,  69]\n",
        "#imprimimos la informacion de correlación entre X y Y \n",
        "print(\"height weight\")\n",
        "#creamos un bucle for que genera una fila con nuestros datos de entrada\n",
        "for row in zip(height, weight):\n",
        "  #imprimimos los valores de la fila desde el primer componente al siguiente\n",
        "    print(row[0][0],\"->\",row[1])"
      ],
      "execution_count": 0,
      "outputs": [
        {
          "output_type": "stream",
          "text": [
            "height weight\n",
            "4.0 -> 42\n",
            "4.5 -> 44\n",
            "5.0 -> 49\n",
            "5.2 -> 55\n",
            "5.4 -> 53\n",
            "5.8 -> 58\n",
            "6.1 -> 60\n",
            "6.2 -> 64\n",
            "6.4 -> 66\n",
            "6.8 -> 69\n"
          ],
          "name": "stdout"
        }
      ]
    },
    {
      "cell_type": "code",
      "metadata": {
        "id": "a2htLl4VEQBu",
        "colab_type": "code",
        "colab": {}
      },
      "source": [
        "import matplotlib.pyplot as plt"
      ],
      "execution_count": 0,
      "outputs": []
    },
    {
      "cell_type": "markdown",
      "metadata": {
        "id": "sjcSCTK7UjZe",
        "colab_type": "text"
      },
      "source": [
        "Visializamos con matplotlib los puntos en verde\n",
        "la altura se visualizan en el eje X y los pesos en el eje Y"
      ]
    },
    {
      "cell_type": "code",
      "metadata": {
        "id": "ZlM--MbdEUIl",
        "colab_type": "code",
        "outputId": "1d03848d-d7fa-4b6e-a9cf-fd4a48a11581",
        "colab": {
          "base_uri": "https://localhost:8080/",
          "height": 298
        }
      },
      "source": [
        "plt.scatter(height,weight,color='green')\n",
        "plt.xlabel(\"height\")\n",
        "plt.ylabel(\"weight\")"
      ],
      "execution_count": 0,
      "outputs": [
        {
          "output_type": "execute_result",
          "data": {
            "text/plain": [
              "Text(0, 0.5, 'weight')"
            ]
          },
          "metadata": {
            "tags": []
          },
          "execution_count": 8
        },
        {
          "output_type": "display_data",
          "data": {
            "image/png": "[encoded data removed]",
            "text/plain": [
              "<Figure size 432x288 with 1 Axes>"
            ]
          },
          "metadata": {
            "tags": []
          }
        }
      ]
    },
    {
      "cell_type": "markdown",
      "metadata": {
        "id": "tTUttNbQUzW2",
        "colab_type": "text"
      },
      "source": [
        "Generamos nuestro algoritmo de regresión lineal y ajustamos nuestro modelo con los datos de entrada"
      ]
    },
    {
      "cell_type": "code",
      "metadata": {
        "id": "Qjq6sx0mEYLb",
        "colab_type": "code",
        "outputId": "a33fdbbb-63f8-476b-ec31-f3a76e24de9b",
        "colab": {
          "base_uri": "https://localhost:8080/",
          "height": 34
        }
      },
      "source": [
        "reg=linear_model.LinearRegression()\n",
        "reg.fit(height,weight)"
      ],
      "execution_count": 0,
      "outputs": [
        {
          "output_type": "execute_result",
          "data": {
            "text/plain": [
              "LinearRegression(copy_X=True, fit_intercept=True, n_jobs=None, normalize=False)"
            ]
          },
          "metadata": {
            "tags": []
          },
          "execution_count": 5
        }
      ]
    },
    {
      "cell_type": "markdown",
      "metadata": {
        "id": "d5_xrb5mVMGA",
        "colab_type": "text"
      },
      "source": [
        "generamos el valor de nuestra pendiente y el punto de intercepción de nuestra recta"
      ]
    },
    {
      "cell_type": "code",
      "metadata": {
        "id": "ijC0c189EZh3",
        "colab_type": "code",
        "outputId": "c9f15105-dd13-4782-b5e0-9bb6ef060aac",
        "colab": {
          "base_uri": "https://localhost:8080/",
          "height": 34
        }
      },
      "source": [
        "\n",
        "m=reg.coef_[0]\n",
        "b=reg.intercept_\n",
        "print(\"slope=\",m, \"intercept=\",b)"
      ],
      "execution_count": 0,
      "outputs": [
        {
          "output_type": "stream",
          "text": [
            "slope= 10.193621867881548 intercept= -0.4726651480637756\n"
          ],
          "name": "stdout"
        }
      ]
    },
    {
      "cell_type": "code",
      "metadata": {
        "id": "0I8XSqTWEdo7",
        "colab_type": "code",
        "outputId": "fbcdd518-7bf4-4511-fe29-773724cd86c6",
        "colab": {
          "base_uri": "https://localhost:8080/",
          "height": 298
        }
      },
      "source": [
        "#visualizar alturas y pesos\n",
        "plt.scatter(height,weight,color='green')\n",
        "#predecimos los valores y generamos que nuestra recta se genere en base a los valores a predecir\n",
        "predicted_values = [reg.coef_ * i + reg.intercept_ for i in height]\n",
        "#visalizamos larecta anterior en rojo\n",
        "plt.plot(height, predicted_values, 'b',color='red')\n",
        "plt.xlabel(\"height\")\n",
        "plt.ylabel(\"weight\")"
      ],
      "execution_count": 0,
      "outputs": [
        {
          "output_type": "execute_result",
          "data": {
            "text/plain": [
              "Text(0, 0.5, 'weight')"
            ]
          },
          "metadata": {
            "tags": []
          },
          "execution_count": 7
        },
        {
          "output_type": "display_data",
          "data": {
            "image/png": "[encoded data removed]",
            "text/plain": [
              "<Figure size 432x288 with 1 Axes>"
            ]
          },
          "metadata": {
            "tags": []
          }
        }
      ]
    }
  ]
}