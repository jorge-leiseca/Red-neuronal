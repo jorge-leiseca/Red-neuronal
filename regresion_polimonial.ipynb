{
  "nbformat": 4,
  "nbformat_minor": 0,
  "metadata": {
    "colab": {
      "name": "regresion polimonial",
      "provenance": [],
      "collapsed_sections": [],
      "authorship_tag": "ABX9TyNfViADAgWHRRvgCFXZLRSB",
      "include_colab_link": true
    },
    "kernelspec": {
      "name": "python3",
      "display_name": "Python 3"
    }
  },
  "cells": [
    {
      "cell_type": "markdown",
      "metadata": {
        "id": "view-in-github",
        "colab_type": "text"
      },
      "source": [
        "<a href=\"https://colab.research.google.com/github/jorge-leiseca/Red-neuronal/blob/master/regresion_polimonial.ipynb\" target=\"_parent\"><img src=\"https://colab.research.google.com/assets/colab-badge.svg\" alt=\"Open In Colab\"/></a>"
      ]
    },
    {
      "cell_type": "markdown",
      "metadata": {
        "id": "1HkqNLixC3ai",
        "colab_type": "text"
      },
      "source": [
        "Paso 1: Importamos las bibliotecas y conjuntos de datos.\n",
        "Importamos las bibliotecas importantes y el conjunto de datos que estamos utilizando para realizar la regresión polinómica."
      ]
    },
    {
      "cell_type": "code",
      "metadata": {
        "id": "bV1a7SmxCFj3",
        "colab_type": "code",
        "outputId": "148a37e4-a963-4c26-d411-c5bc5b001f69",
        "colab": {
          "base_uri": "https://localhost:8080/",
          "height": 225
        }
      },
      "source": [
        "# Importing the libraries \n",
        "import numpy as np \n",
        "import matplotlib.pyplot as plt \n",
        "import pandas as pd \n",
        "  \n",
        "# Importing the dataset \n",
        "datas = pd.read_csv('data.csv') \n",
        "datas "
      ],
      "execution_count": 0,
      "outputs": [
        {
          "output_type": "execute_result",
          "data": {
            "text/html": [
              "<div>\n",
              "<style scoped>\n",
              "    .dataframe tbody tr th:only-of-type {\n",
              "        vertical-align: middle;\n",
              "    }\n",
              "\n",
              "    .dataframe tbody tr th {\n",
              "        vertical-align: top;\n",
              "    }\n",
              "\n",
              "    .dataframe thead th {\n",
              "        text-align: right;\n",
              "    }\n",
              "</style>\n",
              "<table border=\"1\" class=\"dataframe\">\n",
              "  <thead>\n",
              "    <tr style=\"text-align: right;\">\n",
              "      <th></th>\n",
              "      <th>sno</th>\n",
              "      <th>Temperature</th>\n",
              "      <th>Pressure</th>\n",
              "    </tr>\n",
              "  </thead>\n",
              "  <tbody>\n",
              "    <tr>\n",
              "      <th>0</th>\n",
              "      <td>1</td>\n",
              "      <td>0</td>\n",
              "      <td>0.0002</td>\n",
              "    </tr>\n",
              "    <tr>\n",
              "      <th>1</th>\n",
              "      <td>2</td>\n",
              "      <td>20</td>\n",
              "      <td>0.0012</td>\n",
              "    </tr>\n",
              "    <tr>\n",
              "      <th>2</th>\n",
              "      <td>3</td>\n",
              "      <td>40</td>\n",
              "      <td>0.0060</td>\n",
              "    </tr>\n",
              "    <tr>\n",
              "      <th>3</th>\n",
              "      <td>4</td>\n",
              "      <td>60</td>\n",
              "      <td>0.0300</td>\n",
              "    </tr>\n",
              "    <tr>\n",
              "      <th>4</th>\n",
              "      <td>5</td>\n",
              "      <td>80</td>\n",
              "      <td>0.0900</td>\n",
              "    </tr>\n",
              "    <tr>\n",
              "      <th>5</th>\n",
              "      <td>6</td>\n",
              "      <td>100</td>\n",
              "      <td>0.2700</td>\n",
              "    </tr>\n",
              "  </tbody>\n",
              "</table>\n",
              "</div>"
            ],
            "text/plain": [
              "   sno  Temperature  Pressure\n",
              "0    1            0    0.0002\n",
              "1    2           20    0.0012\n",
              "2    3           40    0.0060\n",
              "3    4           60    0.0300\n",
              "4    5           80    0.0900\n",
              "5    6          100    0.2700"
            ]
          },
          "metadata": {
            "tags": []
          },
          "execution_count": 18
        }
      ]
    },
    {
      "cell_type": "markdown",
      "metadata": {
        "id": "EUcJCAmDCowx",
        "colab_type": "text"
      },
      "source": [
        "Paso 2: dividimos el conjunto de datos en 2 componentes\n",
        "\n",
        "Divide el conjunto de datos en dos componentes que sean X e y. Contendrán la columna entre 1 y 2, y contendrán la columna 2.\n",
        "\n",
        "```\n",
        "# Tiene formato de código\n",
        "\n",
        "```\n",
        "# Tiene formato de código\n",
        "```\n",
        "\n",
        "\n",
        "```\n",
        "\n"
      ]
    },
    {
      "cell_type": "code",
      "metadata": {
        "id": "L5JSslFvCp-d",
        "colab_type": "code",
        "colab": {}
      },
      "source": [
        "X = datas.iloc[:, 1:2].values \n",
        "y = datas.iloc[:, 2].values "
      ],
      "execution_count": 0,
      "outputs": []
    },
    {
      "cell_type": "markdown",
      "metadata": {
        "id": "wUffmO79DAqE",
        "colab_type": "text"
      },
      "source": [
        "Paso 3: ajusta la regresión lineal al conjunto de datos\n",
        "\n",
        "Ajustemos el modelo de regresión lineal en dos componentes."
      ]
    },
    {
      "cell_type": "code",
      "metadata": {
        "id": "hyJ_MQ5KDBmr",
        "colab_type": "code",
        "outputId": "a67c6bed-4078-434d-b36d-310adb01bf3c",
        "colab": {
          "base_uri": "https://localhost:8080/",
          "height": 34
        }
      },
      "source": [
        "# Fitting Linear Regression to the dataset \n",
        "from sklearn.linear_model import LinearRegression \n",
        "lin = LinearRegression() \n",
        "  \n",
        "lin.fit(X, y) "
      ],
      "execution_count": 0,
      "outputs": [
        {
          "output_type": "execute_result",
          "data": {
            "text/plain": [
              "LinearRegression(copy_X=True, fit_intercept=True, n_jobs=None, normalize=False)"
            ]
          },
          "metadata": {
            "tags": []
          },
          "execution_count": 20
        }
      ]
    },
    {
      "cell_type": "markdown",
      "metadata": {
        "id": "gL_Cgd0CDG7d",
        "colab_type": "text"
      },
      "source": [
        "Paso 4: Ajustemos la regresión polinómica al conjunto de datos\n",
        "\n",
        "Ajustemos el modelo de regresión polinómica en dos componentes X e y."
      ]
    },
    {
      "cell_type": "code",
      "metadata": {
        "id": "5c5Y5yg3DIr5",
        "colab_type": "code",
        "outputId": "abaf4c3b-ed04-43ed-dbf9-dac314b9d2b8",
        "colab": {
          "base_uri": "https://localhost:8080/",
          "height": 34
        }
      },
      "source": [
        "# Fitting Polynomial Regression to the dataset \n",
        "from sklearn.preprocessing import PolynomialFeatures \n",
        "  \n",
        "poly = PolynomialFeatures(degree = 4) \n",
        "X_poly = poly.fit_transform(X) \n",
        "  \n",
        "poly.fit(X_poly, y) \n",
        "lin2 = LinearRegression() \n",
        "lin2.fit(X_poly, y) "
      ],
      "execution_count": 0,
      "outputs": [
        {
          "output_type": "execute_result",
          "data": {
            "text/plain": [
              "LinearRegression(copy_X=True, fit_intercept=True, n_jobs=None, normalize=False)"
            ]
          },
          "metadata": {
            "tags": []
          },
          "execution_count": 21
        }
      ]
    },
    {
      "cell_type": "markdown",
      "metadata": {
        "id": "KFuAZpcEDNPL",
        "colab_type": "text"
      },
      "source": [
        "Paso 5: en este paso estamos visualizando los resultados de la regresión lineal usando el diagrama de dispersión."
      ]
    },
    {
      "cell_type": "code",
      "metadata": {
        "id": "XCEML8hnDPlK",
        "colab_type": "code",
        "outputId": "e575b6a6-6ce3-48eb-affb-0db2018c4310",
        "colab": {
          "base_uri": "https://localhost:8080/",
          "height": 295
        }
      },
      "source": [
        "# Visualising the Linear Regression results \n",
        "plt.scatter(X, y, color = 'blue') \n",
        "  \n",
        "plt.plot(X, lin.predict(X), color = 'red') \n",
        "plt.title('Linear Regression') \n",
        "plt.xlabel('Temperature') \n",
        "plt.ylabel('Pressure') \n",
        "  \n",
        "plt.show()"
      ],
      "execution_count": 0,
      "outputs": [
        {
          "output_type": "display_data",
          "data": {
            "image/png": "[encoded data removed]",
            "text/plain": [
              "<Figure size 432x288 with 1 Axes>"
            ]
          },
          "metadata": {
            "tags": []
          }
        }
      ]
    },
    {
      "cell_type": "markdown",
      "metadata": {
        "id": "l3tSjSL5DbEr",
        "colab_type": "text"
      },
      "source": [
        "Como puedes observar la regresión lineal no es insuficiente en este caso ya que los datos tienen a ser curvos en su crecimiento. Por ello necesitamos de un polinomio de enésimo grado"
      ]
    },
    {
      "cell_type": "markdown",
      "metadata": {
        "id": "3tkrH3mfEDuH",
        "colab_type": "text"
      },
      "source": [
        "Paso 6: Visualizar los resultados de la regresión polinómica usando el diagrama de dispersión."
      ]
    },
    {
      "cell_type": "code",
      "metadata": {
        "id": "YA1nYZygEEen",
        "colab_type": "code",
        "outputId": "0cf4497a-81a7-409e-aaf0-23082d1b88b3",
        "colab": {
          "base_uri": "https://localhost:8080/",
          "height": 295
        }
      },
      "source": [
        "# Visualising the Polynomial Regression results \n",
        "plt.scatter(X, y, color = 'blue') \n",
        "  \n",
        "plt.plot(X, lin2.predict(poly.fit_transform(X)), color = 'red') \n",
        "plt.title('Polynomial Regression') \n",
        "plt.xlabel('Temperature') \n",
        "plt.ylabel('Pressure') \n",
        "  \n",
        "plt.show()"
      ],
      "execution_count": 0,
      "outputs": [
        {
          "output_type": "display_data",
          "data": {
            "image/png": "[encoded data removed]",
            "text/plain": [
              "<Figure size 432x288 with 1 Axes>"
            ]
          },
          "metadata": {
            "tags": []
          }
        }
      ]
    }
  ]
}